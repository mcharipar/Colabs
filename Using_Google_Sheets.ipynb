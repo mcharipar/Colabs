{
  "nbformat": 4,
  "nbformat_minor": 0,
  "metadata": {
    "colab": {
      "name": "Using_Google_Sheets",
      "provenance": [],
      "collapsed_sections": [
        "hhH6VT5I2W5S"
      ],
      "authorship_tag": "ABX9TyPRyoWuIWK0f491YG/s4fOQ",
      "include_colab_link": true
    },
    "kernelspec": {
      "name": "python3",
      "display_name": "Python 3"
    },
    "language_info": {
      "name": "python"
    }
  },
  "cells": [
    {
      "cell_type": "markdown",
      "metadata": {
        "id": "view-in-github",
        "colab_type": "text"
      },
      "source": [
        "<a href=\"https://colab.research.google.com/github/mcharipar/Colabs/blob/main/Using_Google_Sheets.ipynb\" target=\"_parent\"><img src=\"https://colab.research.google.com/assets/colab-badge.svg\" alt=\"Open In Colab\"/></a>"
      ]
    },
    {
      "cell_type": "markdown",
      "metadata": {
        "id": "weDMLIHqxR8a"
      },
      "source": [
        "# Feel free to ask during office hours what is going on here."
      ]
    },
    {
      "cell_type": "markdown",
      "metadata": {
        "id": "dM6RoJLa2c-t"
      },
      "source": [
        "# Using Google Sheets"
      ]
    },
    {
      "cell_type": "markdown",
      "metadata": {
        "id": "hhH6VT5I2W5S"
      },
      "source": [
        "###Mount Gdrive Folder\n",
        "***Make sure to click on the link and copy and ctr+v the code in the box.***"
      ]
    },
    {
      "cell_type": "code",
      "metadata": {
        "id": "dzW9uh8q2Ver"
      },
      "source": [
        "# from google.colab import drive\n",
        "# drive.mount('/content/gdrive')"
      ],
      "execution_count": null,
      "outputs": []
    },
    {
      "cell_type": "code",
      "metadata": {
        "id": "IjUc6vsP2Qgy"
      },
      "source": [
        "# import pandas as pd\n",
        "# import re\n",
        "\n",
        "# ## Ggdrive file path (make sure that the path is correct, edit as necessary)\n",
        "# df = pd.read_csv"
      ],
      "execution_count": null,
      "outputs": []
    },
    {
      "cell_type": "markdown",
      "metadata": {
        "id": "QR90Hl043T2p"
      },
      "source": [
        "# Saving data to Google Sheets\n",
        "\n",
        "\n",
        "This snippet uses the open-source [gspread](https://github.com/burnash/gspread) library for interacting with Sheets."
      ]
    },
    {
      "cell_type": "code",
      "metadata": {
        "colab": {
          "base_uri": "https://localhost:8080/"
        },
        "id": "doRK8TIN3CsJ",
        "outputId": "2dfc5e24-7d6c-4343-e02a-bffb6d84b284"
      },
      "source": [
        "import pandas as pd\n",
        "from google.colab import auth\n",
        "auth.authenticate_user()\n",
        "\n",
        "import gspread\n",
        "from oauth2client.client import GoogleCredentials\n",
        "\n",
        "gc = gspread.authorize(GoogleCredentials.get_application_default())\n",
        "\n",
        "sh = gc.create('A new spreadsheet')\n",
        "\n",
        "# Open our new sheet and add some data.\n",
        "worksheet = gc.open('A new spreadsheet').sheet1\n",
        "\n",
        "cell_list = worksheet.range('A1:C2')\n",
        "\n",
        "import random\n",
        "for cell in cell_list:\n",
        "  cell.value = random.randint(1, 10)\n",
        "\n",
        "worksheet.update_cells(cell_list)\n",
        "# Go to https://sheets.google.com to see your new spreadsheet."
      ],
      "execution_count": null,
      "outputs": [
        {
          "output_type": "execute_result",
          "data": {
            "text/plain": [
              "{'spreadsheetId': '1LrS3Gi410gegajOc9QyKzzzRv0iJmDPoUTVeKECp69U',\n",
              " 'updatedCells': 6,\n",
              " 'updatedColumns': 3,\n",
              " 'updatedRange': 'Sheet1!A1:C2',\n",
              " 'updatedRows': 2}"
            ]
          },
          "metadata": {
            "tags": []
          },
          "execution_count": 624
        }
      ]
    },
    {
      "cell_type": "markdown",
      "metadata": {
        "id": "1bvv3Ug83Rn-"
      },
      "source": [
        "# Importing data from Google Sheets"
      ]
    },
    {
      "cell_type": "code",
      "metadata": {
        "colab": {
          "base_uri": "https://localhost:8080/"
        },
        "id": "RVxOe5An3Qr8",
        "outputId": "65dcc975-1e20-4d93-9c2d-660de5d1c75c"
      },
      "source": [
        "from google.colab import auth\n",
        "auth.authenticate_user()\n",
        "\n",
        "import gspread\n",
        "from oauth2client.client import GoogleCredentials\n",
        "\n",
        "gc = gspread.authorize(GoogleCredentials.get_application_default())\n",
        "\n",
        "worksheet = gc.open('A new spreadsheet').sheet1\n",
        "\n",
        "# get_all_values gives a list of rows.\n",
        "rows = worksheet.get_all_values()\n",
        "print(rows)"
      ],
      "execution_count": null,
      "outputs": [
        {
          "output_type": "stream",
          "text": [
            "[['9', '10', '3'], ['2', '1', '7']]\n"
          ],
          "name": "stdout"
        }
      ]
    },
    {
      "cell_type": "code",
      "metadata": {
        "colab": {
          "base_uri": "https://localhost:8080/",
          "height": 78
        },
        "id": "4HnkSVwO3h8n",
        "outputId": "144dfcc0-b071-4fc6-a6b4-f4b588032a9a"
      },
      "source": [
        "# Convert to a DataFrame and render.\n",
        "df = pd.DataFrame.from_records(rows)\n",
        "df.style"
      ],
      "execution_count": null,
      "outputs": [
        {
          "output_type": "execute_result",
          "data": {
            "text/html": [
              "<style  type=\"text/css\" >\n",
              "</style><table id=\"T_f83277e2_f7f4_11eb_98f6_0242ac1c0002\" ><thead>    <tr>        <th class=\"blank level0\" ></th>        <th class=\"col_heading level0 col0\" >0</th>        <th class=\"col_heading level0 col1\" >1</th>        <th class=\"col_heading level0 col2\" >2</th>    </tr></thead><tbody>\n",
              "                <tr>\n",
              "                        <th id=\"T_f83277e2_f7f4_11eb_98f6_0242ac1c0002level0_row0\" class=\"row_heading level0 row0\" >0</th>\n",
              "                        <td id=\"T_f83277e2_f7f4_11eb_98f6_0242ac1c0002row0_col0\" class=\"data row0 col0\" >9</td>\n",
              "                        <td id=\"T_f83277e2_f7f4_11eb_98f6_0242ac1c0002row0_col1\" class=\"data row0 col1\" >10</td>\n",
              "                        <td id=\"T_f83277e2_f7f4_11eb_98f6_0242ac1c0002row0_col2\" class=\"data row0 col2\" >3</td>\n",
              "            </tr>\n",
              "            <tr>\n",
              "                        <th id=\"T_f83277e2_f7f4_11eb_98f6_0242ac1c0002level0_row1\" class=\"row_heading level0 row1\" >1</th>\n",
              "                        <td id=\"T_f83277e2_f7f4_11eb_98f6_0242ac1c0002row1_col0\" class=\"data row1 col0\" >2</td>\n",
              "                        <td id=\"T_f83277e2_f7f4_11eb_98f6_0242ac1c0002row1_col1\" class=\"data row1 col1\" >1</td>\n",
              "                        <td id=\"T_f83277e2_f7f4_11eb_98f6_0242ac1c0002row1_col2\" class=\"data row1 col2\" >7</td>\n",
              "            </tr>\n",
              "    </tbody></table>"
            ],
            "text/plain": [
              "<pandas.io.formats.style.Styler at 0x7fa07a56c410>"
            ]
          },
          "metadata": {
            "tags": []
          },
          "execution_count": 626
        }
      ]
    },
    {
      "cell_type": "code",
      "metadata": {
        "colab": {
          "base_uri": "https://localhost:8080/",
          "height": 111
        },
        "id": "Rzlocgz13qFR",
        "outputId": "d694ef9f-015c-4106-b162-ac4f4fdd5da3"
      },
      "source": [
        "df"
      ],
      "execution_count": null,
      "outputs": [
        {
          "output_type": "execute_result",
          "data": {
            "text/html": [
              "<div>\n",
              "<style scoped>\n",
              "    .dataframe tbody tr th:only-of-type {\n",
              "        vertical-align: middle;\n",
              "    }\n",
              "\n",
              "    .dataframe tbody tr th {\n",
              "        vertical-align: top;\n",
              "    }\n",
              "\n",
              "    .dataframe thead th {\n",
              "        text-align: right;\n",
              "    }\n",
              "</style>\n",
              "<table border=\"1\" class=\"dataframe\">\n",
              "  <thead>\n",
              "    <tr style=\"text-align: right;\">\n",
              "      <th></th>\n",
              "      <th>0</th>\n",
              "      <th>1</th>\n",
              "      <th>2</th>\n",
              "    </tr>\n",
              "  </thead>\n",
              "  <tbody>\n",
              "    <tr>\n",
              "      <th>0</th>\n",
              "      <td>9</td>\n",
              "      <td>10</td>\n",
              "      <td>3</td>\n",
              "    </tr>\n",
              "    <tr>\n",
              "      <th>1</th>\n",
              "      <td>2</td>\n",
              "      <td>1</td>\n",
              "      <td>7</td>\n",
              "    </tr>\n",
              "  </tbody>\n",
              "</table>\n",
              "</div>"
            ],
            "text/plain": [
              "   0   1  2\n",
              "0  9  10  3\n",
              "1  2   1  7"
            ]
          },
          "metadata": {
            "tags": []
          },
          "execution_count": 627
        }
      ]
    },
    {
      "cell_type": "markdown",
      "metadata": {
        "id": "y0CB06t1tf81"
      },
      "source": [
        "## Plugining in Finance Data into the Sheet"
      ]
    },
    {
      "cell_type": "code",
      "metadata": {
        "colab": {
          "base_uri": "https://localhost:8080/"
        },
        "id": "C-daRFHU_QBK",
        "outputId": "2b8f661f-a3f8-4bec-fef4-d5cd5079969f"
      },
      "source": [
        "worksheet.update_cell(1,1, '=GOOGLEFINANCE(\"FB\", \"price\", \"5/7/2021\", \"8/7/2021\")')"
      ],
      "execution_count": null,
      "outputs": [
        {
          "output_type": "execute_result",
          "data": {
            "text/plain": [
              "{'spreadsheetId': '1LrS3Gi410gegajOc9QyKzzzRv0iJmDPoUTVeKECp69U',\n",
              " 'updatedCells': 1,\n",
              " 'updatedColumns': 1,\n",
              " 'updatedRange': 'Sheet1!A1',\n",
              " 'updatedRows': 1}"
            ]
          },
          "metadata": {
            "tags": []
          },
          "execution_count": 650
        }
      ]
    },
    {
      "cell_type": "code",
      "metadata": {
        "colab": {
          "base_uri": "https://localhost:8080/"
        },
        "id": "0Il1fWdIBuEA",
        "outputId": "5107bb8f-4da8-4353-88ef-965943163f80"
      },
      "source": [
        "worksheet.update_cell(1,3, '=GOOGLEFINANCE(\"TSLA\", \"price\", \"5/7/2021\", \"8/7/2021\")')"
      ],
      "execution_count": null,
      "outputs": [
        {
          "output_type": "execute_result",
          "data": {
            "text/plain": [
              "{'spreadsheetId': '1LrS3Gi410gegajOc9QyKzzzRv0iJmDPoUTVeKECp69U',\n",
              " 'updatedCells': 1,\n",
              " 'updatedColumns': 1,\n",
              " 'updatedRange': 'Sheet1!C1',\n",
              " 'updatedRows': 1}"
            ]
          },
          "metadata": {
            "tags": []
          },
          "execution_count": 651
        }
      ]
    },
    {
      "cell_type": "code",
      "metadata": {
        "colab": {
          "base_uri": "https://localhost:8080/"
        },
        "id": "Ww38LChzBtuL",
        "outputId": "41d924ce-e764-4677-f0c8-96aa9eee7377"
      },
      "source": [
        "worksheet.update_cell(1,5, '=GOOGLEFINANCE(\"GOOG\", \"price\", \"5/7/2021\", \"8/7/2021\")')"
      ],
      "execution_count": null,
      "outputs": [
        {
          "output_type": "execute_result",
          "data": {
            "text/plain": [
              "{'spreadsheetId': '1LrS3Gi410gegajOc9QyKzzzRv0iJmDPoUTVeKECp69U',\n",
              " 'updatedCells': 1,\n",
              " 'updatedColumns': 1,\n",
              " 'updatedRange': 'Sheet1!E1',\n",
              " 'updatedRows': 1}"
            ]
          },
          "metadata": {
            "tags": []
          },
          "execution_count": 652
        }
      ]
    },
    {
      "cell_type": "code",
      "metadata": {
        "colab": {
          "base_uri": "https://localhost:8080/"
        },
        "id": "9KtOCfoTBt7_",
        "outputId": "225cb614-d5a5-4306-b98e-0f778695e3b6"
      },
      "source": [
        "worksheet.update_cell(1,7, '=GOOGLEFINANCE(\"VIX\", \"price\", \"5/7/2021\", \"8/7/2021\")')"
      ],
      "execution_count": null,
      "outputs": [
        {
          "output_type": "execute_result",
          "data": {
            "text/plain": [
              "{'spreadsheetId': '1LrS3Gi410gegajOc9QyKzzzRv0iJmDPoUTVeKECp69U',\n",
              " 'updatedCells': 1,\n",
              " 'updatedColumns': 1,\n",
              " 'updatedRange': 'Sheet1!G1',\n",
              " 'updatedRows': 1}"
            ]
          },
          "metadata": {
            "tags": []
          },
          "execution_count": 653
        }
      ]
    },
    {
      "cell_type": "code",
      "metadata": {
        "id": "pKXXgjbPQB_c"
      },
      "source": [
        "## let G Sheets catch up\n",
        "import time\n",
        "time.sleep(15) "
      ],
      "execution_count": null,
      "outputs": []
    },
    {
      "cell_type": "code",
      "metadata": {
        "colab": {
          "base_uri": "https://localhost:8080/",
          "height": 418
        },
        "id": "a9H5nOBo_P9y",
        "outputId": "ca3d90ef-0d08-4e95-feef-7cd9c6d9b130"
      },
      "source": [
        "gc = gspread.authorize(GoogleCredentials.get_application_default())\n",
        "\n",
        "worksheet = gc.open('A new spreadsheet').sheet1\n",
        "\n",
        "# get_all_values gives a list of rows.\n",
        "rows = worksheet.get_all_values()\n",
        "df2 = pd.DataFrame.from_records(rows)\n",
        "df2"
      ],
      "execution_count": null,
      "outputs": [
        {
          "output_type": "execute_result",
          "data": {
            "text/html": [
              "<div>\n",
              "<style scoped>\n",
              "    .dataframe tbody tr th:only-of-type {\n",
              "        vertical-align: middle;\n",
              "    }\n",
              "\n",
              "    .dataframe tbody tr th {\n",
              "        vertical-align: top;\n",
              "    }\n",
              "\n",
              "    .dataframe thead th {\n",
              "        text-align: right;\n",
              "    }\n",
              "</style>\n",
              "<table border=\"1\" class=\"dataframe\">\n",
              "  <thead>\n",
              "    <tr style=\"text-align: right;\">\n",
              "      <th></th>\n",
              "      <th>0</th>\n",
              "      <th>1</th>\n",
              "      <th>2</th>\n",
              "      <th>3</th>\n",
              "      <th>4</th>\n",
              "      <th>5</th>\n",
              "      <th>6</th>\n",
              "      <th>7</th>\n",
              "    </tr>\n",
              "  </thead>\n",
              "  <tbody>\n",
              "    <tr>\n",
              "      <th>0</th>\n",
              "      <td>Date</td>\n",
              "      <td>Close</td>\n",
              "      <td>Date</td>\n",
              "      <td>Close</td>\n",
              "      <td>Date</td>\n",
              "      <td>Close</td>\n",
              "      <td>Date</td>\n",
              "      <td>Close</td>\n",
              "    </tr>\n",
              "    <tr>\n",
              "      <th>1</th>\n",
              "      <td>5/7/2021 16:00:00</td>\n",
              "      <td>319.08</td>\n",
              "      <td>5/7/2021 16:00:00</td>\n",
              "      <td>672.37</td>\n",
              "      <td>5/7/2021 16:00:00</td>\n",
              "      <td>2398.69</td>\n",
              "      <td>5/7/2021 15:16:00</td>\n",
              "      <td>16.69</td>\n",
              "    </tr>\n",
              "    <tr>\n",
              "      <th>2</th>\n",
              "      <td>5/10/2021 16:00:00</td>\n",
              "      <td>305.97</td>\n",
              "      <td>5/10/2021 16:00:00</td>\n",
              "      <td>629.04</td>\n",
              "      <td>5/10/2021 16:00:00</td>\n",
              "      <td>2341.66</td>\n",
              "      <td>5/10/2021 15:16:00</td>\n",
              "      <td>19.66</td>\n",
              "    </tr>\n",
              "    <tr>\n",
              "      <th>3</th>\n",
              "      <td>5/11/2021 16:00:00</td>\n",
              "      <td>306.53</td>\n",
              "      <td>5/11/2021 16:00:00</td>\n",
              "      <td>617.2</td>\n",
              "      <td>5/11/2021 16:00:00</td>\n",
              "      <td>2308.76</td>\n",
              "      <td>5/11/2021 15:16:00</td>\n",
              "      <td>21.84</td>\n",
              "    </tr>\n",
              "    <tr>\n",
              "      <th>4</th>\n",
              "      <td>5/12/2021 16:00:00</td>\n",
              "      <td>302.55</td>\n",
              "      <td>5/12/2021 16:00:00</td>\n",
              "      <td>589.89</td>\n",
              "      <td>5/12/2021 16:00:00</td>\n",
              "      <td>2239.08</td>\n",
              "      <td>5/12/2021 15:16:00</td>\n",
              "      <td>27.59</td>\n",
              "    </tr>\n",
              "    <tr>\n",
              "      <th>...</th>\n",
              "      <td>...</td>\n",
              "      <td>...</td>\n",
              "      <td>...</td>\n",
              "      <td>...</td>\n",
              "      <td>...</td>\n",
              "      <td>...</td>\n",
              "      <td>...</td>\n",
              "      <td>...</td>\n",
              "    </tr>\n",
              "    <tr>\n",
              "      <th>60</th>\n",
              "      <td>8/2/2021 16:00:00</td>\n",
              "      <td>351.95</td>\n",
              "      <td>8/2/2021 16:00:00</td>\n",
              "      <td>709.67</td>\n",
              "      <td>8/2/2021 16:00:00</td>\n",
              "      <td>2719.79</td>\n",
              "      <td>8/2/2021 15:16:00</td>\n",
              "      <td>19.46</td>\n",
              "    </tr>\n",
              "    <tr>\n",
              "      <th>61</th>\n",
              "      <td>8/3/2021 16:00:00</td>\n",
              "      <td>351.24</td>\n",
              "      <td>8/3/2021 16:00:00</td>\n",
              "      <td>709.74</td>\n",
              "      <td>8/3/2021 16:00:00</td>\n",
              "      <td>2725.6</td>\n",
              "      <td>8/3/2021 15:16:00</td>\n",
              "      <td>18.04</td>\n",
              "    </tr>\n",
              "    <tr>\n",
              "      <th>62</th>\n",
              "      <td>8/4/2021 16:00:00</td>\n",
              "      <td>358.92</td>\n",
              "      <td>8/4/2021 16:00:00</td>\n",
              "      <td>710.92</td>\n",
              "      <td>8/4/2021 16:00:00</td>\n",
              "      <td>2720.57</td>\n",
              "      <td>8/4/2021 15:16:00</td>\n",
              "      <td>17.97</td>\n",
              "    </tr>\n",
              "    <tr>\n",
              "      <th>63</th>\n",
              "      <td>8/5/2021 16:00:00</td>\n",
              "      <td>362.97</td>\n",
              "      <td>8/5/2021 16:00:00</td>\n",
              "      <td>714.63</td>\n",
              "      <td>8/5/2021 16:00:00</td>\n",
              "      <td>2738.8</td>\n",
              "      <td>8/5/2021 15:16:00</td>\n",
              "      <td>17.28</td>\n",
              "    </tr>\n",
              "    <tr>\n",
              "      <th>64</th>\n",
              "      <td>8/6/2021 16:00:00</td>\n",
              "      <td>363.51</td>\n",
              "      <td>8/6/2021 16:00:00</td>\n",
              "      <td>699.1</td>\n",
              "      <td>8/6/2021 16:00:00</td>\n",
              "      <td>2740.72</td>\n",
              "      <td>8/6/2021 15:16:00</td>\n",
              "      <td>16.15</td>\n",
              "    </tr>\n",
              "  </tbody>\n",
              "</table>\n",
              "<p>65 rows × 8 columns</p>\n",
              "</div>"
            ],
            "text/plain": [
              "                     0       1  ...                   6      7\n",
              "0                 Date   Close  ...                Date  Close\n",
              "1    5/7/2021 16:00:00  319.08  ...   5/7/2021 15:16:00  16.69\n",
              "2   5/10/2021 16:00:00  305.97  ...  5/10/2021 15:16:00  19.66\n",
              "3   5/11/2021 16:00:00  306.53  ...  5/11/2021 15:16:00  21.84\n",
              "4   5/12/2021 16:00:00  302.55  ...  5/12/2021 15:16:00  27.59\n",
              "..                 ...     ...  ...                 ...    ...\n",
              "60   8/2/2021 16:00:00  351.95  ...   8/2/2021 15:16:00  19.46\n",
              "61   8/3/2021 16:00:00  351.24  ...   8/3/2021 15:16:00  18.04\n",
              "62   8/4/2021 16:00:00  358.92  ...   8/4/2021 15:16:00  17.97\n",
              "63   8/5/2021 16:00:00  362.97  ...   8/5/2021 15:16:00  17.28\n",
              "64   8/6/2021 16:00:00  363.51  ...   8/6/2021 15:16:00  16.15\n",
              "\n",
              "[65 rows x 8 columns]"
            ]
          },
          "metadata": {
            "tags": []
          },
          "execution_count": 655
        }
      ]
    },
    {
      "cell_type": "markdown",
      "metadata": {
        "id": "6BqhyXfRuIT2"
      },
      "source": [
        "\n",
        "### If the dataframe shows up as off, reformat in the google sheet itself"
      ]
    },
    {
      "cell_type": "code",
      "metadata": {
        "id": "uti-GBnuXcBH"
      },
      "source": [
        "time.sleep(3) "
      ],
      "execution_count": null,
      "outputs": []
    },
    {
      "cell_type": "code",
      "metadata": {
        "colab": {
          "base_uri": "https://localhost:8080/",
          "height": 418
        },
        "id": "h8AuMFKPG506",
        "outputId": "245b5cc9-6bb8-429a-8d77-3b5070117f59"
      },
      "source": [
        "df2 = df2.iloc[:,[0,1,3,5,7]]\n",
        "df2"
      ],
      "execution_count": null,
      "outputs": [
        {
          "output_type": "execute_result",
          "data": {
            "text/html": [
              "<div>\n",
              "<style scoped>\n",
              "    .dataframe tbody tr th:only-of-type {\n",
              "        vertical-align: middle;\n",
              "    }\n",
              "\n",
              "    .dataframe tbody tr th {\n",
              "        vertical-align: top;\n",
              "    }\n",
              "\n",
              "    .dataframe thead th {\n",
              "        text-align: right;\n",
              "    }\n",
              "</style>\n",
              "<table border=\"1\" class=\"dataframe\">\n",
              "  <thead>\n",
              "    <tr style=\"text-align: right;\">\n",
              "      <th></th>\n",
              "      <th>0</th>\n",
              "      <th>1</th>\n",
              "      <th>3</th>\n",
              "      <th>5</th>\n",
              "      <th>7</th>\n",
              "    </tr>\n",
              "  </thead>\n",
              "  <tbody>\n",
              "    <tr>\n",
              "      <th>0</th>\n",
              "      <td>Date</td>\n",
              "      <td>Close</td>\n",
              "      <td>Close</td>\n",
              "      <td>Close</td>\n",
              "      <td>Close</td>\n",
              "    </tr>\n",
              "    <tr>\n",
              "      <th>1</th>\n",
              "      <td>5/7/2021 16:00:00</td>\n",
              "      <td>319.08</td>\n",
              "      <td>672.37</td>\n",
              "      <td>2398.69</td>\n",
              "      <td>16.69</td>\n",
              "    </tr>\n",
              "    <tr>\n",
              "      <th>2</th>\n",
              "      <td>5/10/2021 16:00:00</td>\n",
              "      <td>305.97</td>\n",
              "      <td>629.04</td>\n",
              "      <td>2341.66</td>\n",
              "      <td>19.66</td>\n",
              "    </tr>\n",
              "    <tr>\n",
              "      <th>3</th>\n",
              "      <td>5/11/2021 16:00:00</td>\n",
              "      <td>306.53</td>\n",
              "      <td>617.2</td>\n",
              "      <td>2308.76</td>\n",
              "      <td>21.84</td>\n",
              "    </tr>\n",
              "    <tr>\n",
              "      <th>4</th>\n",
              "      <td>5/12/2021 16:00:00</td>\n",
              "      <td>302.55</td>\n",
              "      <td>589.89</td>\n",
              "      <td>2239.08</td>\n",
              "      <td>27.59</td>\n",
              "    </tr>\n",
              "    <tr>\n",
              "      <th>...</th>\n",
              "      <td>...</td>\n",
              "      <td>...</td>\n",
              "      <td>...</td>\n",
              "      <td>...</td>\n",
              "      <td>...</td>\n",
              "    </tr>\n",
              "    <tr>\n",
              "      <th>60</th>\n",
              "      <td>8/2/2021 16:00:00</td>\n",
              "      <td>351.95</td>\n",
              "      <td>709.67</td>\n",
              "      <td>2719.79</td>\n",
              "      <td>19.46</td>\n",
              "    </tr>\n",
              "    <tr>\n",
              "      <th>61</th>\n",
              "      <td>8/3/2021 16:00:00</td>\n",
              "      <td>351.24</td>\n",
              "      <td>709.74</td>\n",
              "      <td>2725.6</td>\n",
              "      <td>18.04</td>\n",
              "    </tr>\n",
              "    <tr>\n",
              "      <th>62</th>\n",
              "      <td>8/4/2021 16:00:00</td>\n",
              "      <td>358.92</td>\n",
              "      <td>710.92</td>\n",
              "      <td>2720.57</td>\n",
              "      <td>17.97</td>\n",
              "    </tr>\n",
              "    <tr>\n",
              "      <th>63</th>\n",
              "      <td>8/5/2021 16:00:00</td>\n",
              "      <td>362.97</td>\n",
              "      <td>714.63</td>\n",
              "      <td>2738.8</td>\n",
              "      <td>17.28</td>\n",
              "    </tr>\n",
              "    <tr>\n",
              "      <th>64</th>\n",
              "      <td>8/6/2021 16:00:00</td>\n",
              "      <td>363.51</td>\n",
              "      <td>699.1</td>\n",
              "      <td>2740.72</td>\n",
              "      <td>16.15</td>\n",
              "    </tr>\n",
              "  </tbody>\n",
              "</table>\n",
              "<p>65 rows × 5 columns</p>\n",
              "</div>"
            ],
            "text/plain": [
              "                     0       1       3        5      7\n",
              "0                 Date   Close   Close    Close  Close\n",
              "1    5/7/2021 16:00:00  319.08  672.37  2398.69  16.69\n",
              "2   5/10/2021 16:00:00  305.97  629.04  2341.66  19.66\n",
              "3   5/11/2021 16:00:00  306.53   617.2  2308.76  21.84\n",
              "4   5/12/2021 16:00:00  302.55  589.89  2239.08  27.59\n",
              "..                 ...     ...     ...      ...    ...\n",
              "60   8/2/2021 16:00:00  351.95  709.67  2719.79  19.46\n",
              "61   8/3/2021 16:00:00  351.24  709.74   2725.6  18.04\n",
              "62   8/4/2021 16:00:00  358.92  710.92  2720.57  17.97\n",
              "63   8/5/2021 16:00:00  362.97  714.63   2738.8  17.28\n",
              "64   8/6/2021 16:00:00  363.51   699.1  2740.72  16.15\n",
              "\n",
              "[65 rows x 5 columns]"
            ]
          },
          "metadata": {
            "tags": []
          },
          "execution_count": 657
        }
      ]
    },
    {
      "cell_type": "code",
      "metadata": {
        "colab": {
          "base_uri": "https://localhost:8080/"
        },
        "id": "PGli5driDyVz",
        "outputId": "ebbf995d-5f1e-4434-b948-69e79b440a10"
      },
      "source": [
        "df2.info()"
      ],
      "execution_count": null,
      "outputs": [
        {
          "output_type": "stream",
          "text": [
            "<class 'pandas.core.frame.DataFrame'>\n",
            "RangeIndex: 65 entries, 0 to 64\n",
            "Data columns (total 5 columns):\n",
            " #   Column  Non-Null Count  Dtype \n",
            "---  ------  --------------  ----- \n",
            " 0   0       65 non-null     object\n",
            " 1   1       65 non-null     object\n",
            " 2   3       65 non-null     object\n",
            " 3   5       65 non-null     object\n",
            " 4   7       65 non-null     object\n",
            "dtypes: object(5)\n",
            "memory usage: 2.7+ KB\n"
          ],
          "name": "stdout"
        }
      ]
    },
    {
      "cell_type": "code",
      "metadata": {
        "colab": {
          "base_uri": "https://localhost:8080/"
        },
        "id": "pqVRjaCIEQJW",
        "outputId": "d4ecd2d0-e7d5-4508-cf2d-781d3ccd6c61"
      },
      "source": [
        "df2.loc[0].tolist()"
      ],
      "execution_count": null,
      "outputs": [
        {
          "output_type": "execute_result",
          "data": {
            "text/plain": [
              "['Date', 'Close', 'Close', 'Close', 'Close']"
            ]
          },
          "metadata": {
            "tags": []
          },
          "execution_count": 659
        }
      ]
    },
    {
      "cell_type": "code",
      "metadata": {
        "colab": {
          "base_uri": "https://localhost:8080/",
          "height": 418
        },
        "id": "spTMVR1rEQET",
        "outputId": "16dc93f1-bfc2-47ec-aa2c-bb38c99f20ee"
      },
      "source": [
        "df3 = df2.loc[1:]\n",
        "df3"
      ],
      "execution_count": null,
      "outputs": [
        {
          "output_type": "execute_result",
          "data": {
            "text/html": [
              "<div>\n",
              "<style scoped>\n",
              "    .dataframe tbody tr th:only-of-type {\n",
              "        vertical-align: middle;\n",
              "    }\n",
              "\n",
              "    .dataframe tbody tr th {\n",
              "        vertical-align: top;\n",
              "    }\n",
              "\n",
              "    .dataframe thead th {\n",
              "        text-align: right;\n",
              "    }\n",
              "</style>\n",
              "<table border=\"1\" class=\"dataframe\">\n",
              "  <thead>\n",
              "    <tr style=\"text-align: right;\">\n",
              "      <th></th>\n",
              "      <th>0</th>\n",
              "      <th>1</th>\n",
              "      <th>3</th>\n",
              "      <th>5</th>\n",
              "      <th>7</th>\n",
              "    </tr>\n",
              "  </thead>\n",
              "  <tbody>\n",
              "    <tr>\n",
              "      <th>1</th>\n",
              "      <td>5/7/2021 16:00:00</td>\n",
              "      <td>319.08</td>\n",
              "      <td>672.37</td>\n",
              "      <td>2398.69</td>\n",
              "      <td>16.69</td>\n",
              "    </tr>\n",
              "    <tr>\n",
              "      <th>2</th>\n",
              "      <td>5/10/2021 16:00:00</td>\n",
              "      <td>305.97</td>\n",
              "      <td>629.04</td>\n",
              "      <td>2341.66</td>\n",
              "      <td>19.66</td>\n",
              "    </tr>\n",
              "    <tr>\n",
              "      <th>3</th>\n",
              "      <td>5/11/2021 16:00:00</td>\n",
              "      <td>306.53</td>\n",
              "      <td>617.2</td>\n",
              "      <td>2308.76</td>\n",
              "      <td>21.84</td>\n",
              "    </tr>\n",
              "    <tr>\n",
              "      <th>4</th>\n",
              "      <td>5/12/2021 16:00:00</td>\n",
              "      <td>302.55</td>\n",
              "      <td>589.89</td>\n",
              "      <td>2239.08</td>\n",
              "      <td>27.59</td>\n",
              "    </tr>\n",
              "    <tr>\n",
              "      <th>5</th>\n",
              "      <td>5/13/2021 16:00:00</td>\n",
              "      <td>305.26</td>\n",
              "      <td>571.69</td>\n",
              "      <td>2261.97</td>\n",
              "      <td>23.13</td>\n",
              "    </tr>\n",
              "    <tr>\n",
              "      <th>...</th>\n",
              "      <td>...</td>\n",
              "      <td>...</td>\n",
              "      <td>...</td>\n",
              "      <td>...</td>\n",
              "      <td>...</td>\n",
              "    </tr>\n",
              "    <tr>\n",
              "      <th>60</th>\n",
              "      <td>8/2/2021 16:00:00</td>\n",
              "      <td>351.95</td>\n",
              "      <td>709.67</td>\n",
              "      <td>2719.79</td>\n",
              "      <td>19.46</td>\n",
              "    </tr>\n",
              "    <tr>\n",
              "      <th>61</th>\n",
              "      <td>8/3/2021 16:00:00</td>\n",
              "      <td>351.24</td>\n",
              "      <td>709.74</td>\n",
              "      <td>2725.6</td>\n",
              "      <td>18.04</td>\n",
              "    </tr>\n",
              "    <tr>\n",
              "      <th>62</th>\n",
              "      <td>8/4/2021 16:00:00</td>\n",
              "      <td>358.92</td>\n",
              "      <td>710.92</td>\n",
              "      <td>2720.57</td>\n",
              "      <td>17.97</td>\n",
              "    </tr>\n",
              "    <tr>\n",
              "      <th>63</th>\n",
              "      <td>8/5/2021 16:00:00</td>\n",
              "      <td>362.97</td>\n",
              "      <td>714.63</td>\n",
              "      <td>2738.8</td>\n",
              "      <td>17.28</td>\n",
              "    </tr>\n",
              "    <tr>\n",
              "      <th>64</th>\n",
              "      <td>8/6/2021 16:00:00</td>\n",
              "      <td>363.51</td>\n",
              "      <td>699.1</td>\n",
              "      <td>2740.72</td>\n",
              "      <td>16.15</td>\n",
              "    </tr>\n",
              "  </tbody>\n",
              "</table>\n",
              "<p>64 rows × 5 columns</p>\n",
              "</div>"
            ],
            "text/plain": [
              "                     0       1       3        5      7\n",
              "1    5/7/2021 16:00:00  319.08  672.37  2398.69  16.69\n",
              "2   5/10/2021 16:00:00  305.97  629.04  2341.66  19.66\n",
              "3   5/11/2021 16:00:00  306.53   617.2  2308.76  21.84\n",
              "4   5/12/2021 16:00:00  302.55  589.89  2239.08  27.59\n",
              "5   5/13/2021 16:00:00  305.26  571.69  2261.97  23.13\n",
              "..                 ...     ...     ...      ...    ...\n",
              "60   8/2/2021 16:00:00  351.95  709.67  2719.79  19.46\n",
              "61   8/3/2021 16:00:00  351.24  709.74   2725.6  18.04\n",
              "62   8/4/2021 16:00:00  358.92  710.92  2720.57  17.97\n",
              "63   8/5/2021 16:00:00  362.97  714.63   2738.8  17.28\n",
              "64   8/6/2021 16:00:00  363.51   699.1  2740.72  16.15\n",
              "\n",
              "[64 rows x 5 columns]"
            ]
          },
          "metadata": {
            "tags": []
          },
          "execution_count": 660
        }
      ]
    },
    {
      "cell_type": "code",
      "metadata": {
        "colab": {
          "base_uri": "https://localhost:8080/"
        },
        "id": "bth4BaPj-7ze",
        "outputId": "c08bffce-19e9-4d3d-f2e6-60b4ab67dccb"
      },
      "source": [
        "df3.columns.tolist()"
      ],
      "execution_count": null,
      "outputs": [
        {
          "output_type": "execute_result",
          "data": {
            "text/plain": [
              "[0, 1, 3, 5, 7]"
            ]
          },
          "metadata": {
            "tags": []
          },
          "execution_count": 661
        }
      ]
    },
    {
      "cell_type": "code",
      "metadata": {
        "id": "6dyjPVf5Ez6Y"
      },
      "source": [
        "df3.columns = df2.loc[0].tolist()"
      ],
      "execution_count": null,
      "outputs": []
    },
    {
      "cell_type": "code",
      "metadata": {
        "colab": {
          "base_uri": "https://localhost:8080/",
          "height": 418
        },
        "id": "bM75VzJqYAXA",
        "outputId": "9727f2ed-1095-4b37-aac1-d1eab36f4ec6"
      },
      "source": [
        "df3"
      ],
      "execution_count": null,
      "outputs": [
        {
          "output_type": "execute_result",
          "data": {
            "text/html": [
              "<div>\n",
              "<style scoped>\n",
              "    .dataframe tbody tr th:only-of-type {\n",
              "        vertical-align: middle;\n",
              "    }\n",
              "\n",
              "    .dataframe tbody tr th {\n",
              "        vertical-align: top;\n",
              "    }\n",
              "\n",
              "    .dataframe thead th {\n",
              "        text-align: right;\n",
              "    }\n",
              "</style>\n",
              "<table border=\"1\" class=\"dataframe\">\n",
              "  <thead>\n",
              "    <tr style=\"text-align: right;\">\n",
              "      <th></th>\n",
              "      <th>Date</th>\n",
              "      <th>Close</th>\n",
              "      <th>Close</th>\n",
              "      <th>Close</th>\n",
              "      <th>Close</th>\n",
              "    </tr>\n",
              "  </thead>\n",
              "  <tbody>\n",
              "    <tr>\n",
              "      <th>1</th>\n",
              "      <td>5/7/2021 16:00:00</td>\n",
              "      <td>319.08</td>\n",
              "      <td>672.37</td>\n",
              "      <td>2398.69</td>\n",
              "      <td>16.69</td>\n",
              "    </tr>\n",
              "    <tr>\n",
              "      <th>2</th>\n",
              "      <td>5/10/2021 16:00:00</td>\n",
              "      <td>305.97</td>\n",
              "      <td>629.04</td>\n",
              "      <td>2341.66</td>\n",
              "      <td>19.66</td>\n",
              "    </tr>\n",
              "    <tr>\n",
              "      <th>3</th>\n",
              "      <td>5/11/2021 16:00:00</td>\n",
              "      <td>306.53</td>\n",
              "      <td>617.2</td>\n",
              "      <td>2308.76</td>\n",
              "      <td>21.84</td>\n",
              "    </tr>\n",
              "    <tr>\n",
              "      <th>4</th>\n",
              "      <td>5/12/2021 16:00:00</td>\n",
              "      <td>302.55</td>\n",
              "      <td>589.89</td>\n",
              "      <td>2239.08</td>\n",
              "      <td>27.59</td>\n",
              "    </tr>\n",
              "    <tr>\n",
              "      <th>5</th>\n",
              "      <td>5/13/2021 16:00:00</td>\n",
              "      <td>305.26</td>\n",
              "      <td>571.69</td>\n",
              "      <td>2261.97</td>\n",
              "      <td>23.13</td>\n",
              "    </tr>\n",
              "    <tr>\n",
              "      <th>...</th>\n",
              "      <td>...</td>\n",
              "      <td>...</td>\n",
              "      <td>...</td>\n",
              "      <td>...</td>\n",
              "      <td>...</td>\n",
              "    </tr>\n",
              "    <tr>\n",
              "      <th>60</th>\n",
              "      <td>8/2/2021 16:00:00</td>\n",
              "      <td>351.95</td>\n",
              "      <td>709.67</td>\n",
              "      <td>2719.79</td>\n",
              "      <td>19.46</td>\n",
              "    </tr>\n",
              "    <tr>\n",
              "      <th>61</th>\n",
              "      <td>8/3/2021 16:00:00</td>\n",
              "      <td>351.24</td>\n",
              "      <td>709.74</td>\n",
              "      <td>2725.6</td>\n",
              "      <td>18.04</td>\n",
              "    </tr>\n",
              "    <tr>\n",
              "      <th>62</th>\n",
              "      <td>8/4/2021 16:00:00</td>\n",
              "      <td>358.92</td>\n",
              "      <td>710.92</td>\n",
              "      <td>2720.57</td>\n",
              "      <td>17.97</td>\n",
              "    </tr>\n",
              "    <tr>\n",
              "      <th>63</th>\n",
              "      <td>8/5/2021 16:00:00</td>\n",
              "      <td>362.97</td>\n",
              "      <td>714.63</td>\n",
              "      <td>2738.8</td>\n",
              "      <td>17.28</td>\n",
              "    </tr>\n",
              "    <tr>\n",
              "      <th>64</th>\n",
              "      <td>8/6/2021 16:00:00</td>\n",
              "      <td>363.51</td>\n",
              "      <td>699.1</td>\n",
              "      <td>2740.72</td>\n",
              "      <td>16.15</td>\n",
              "    </tr>\n",
              "  </tbody>\n",
              "</table>\n",
              "<p>64 rows × 5 columns</p>\n",
              "</div>"
            ],
            "text/plain": [
              "                  Date   Close   Close    Close  Close\n",
              "1    5/7/2021 16:00:00  319.08  672.37  2398.69  16.69\n",
              "2   5/10/2021 16:00:00  305.97  629.04  2341.66  19.66\n",
              "3   5/11/2021 16:00:00  306.53   617.2  2308.76  21.84\n",
              "4   5/12/2021 16:00:00  302.55  589.89  2239.08  27.59\n",
              "5   5/13/2021 16:00:00  305.26  571.69  2261.97  23.13\n",
              "..                 ...     ...     ...      ...    ...\n",
              "60   8/2/2021 16:00:00  351.95  709.67  2719.79  19.46\n",
              "61   8/3/2021 16:00:00  351.24  709.74   2725.6  18.04\n",
              "62   8/4/2021 16:00:00  358.92  710.92  2720.57  17.97\n",
              "63   8/5/2021 16:00:00  362.97  714.63   2738.8  17.28\n",
              "64   8/6/2021 16:00:00  363.51   699.1  2740.72  16.15\n",
              "\n",
              "[64 rows x 5 columns]"
            ]
          },
          "metadata": {
            "tags": []
          },
          "execution_count": 663
        }
      ]
    },
    {
      "cell_type": "code",
      "metadata": {
        "colab": {
          "base_uri": "https://localhost:8080/"
        },
        "id": "h_EuQ8sLJoRI",
        "outputId": "cd293d59-0cde-40ae-eff5-74b56c055b8d"
      },
      "source": [
        "df3 = df3.set_index(pd.to_datetime(df3['Date']))\n",
        "type(df3.index)"
      ],
      "execution_count": null,
      "outputs": [
        {
          "output_type": "execute_result",
          "data": {
            "text/plain": [
              "pandas.core.indexes.datetimes.DatetimeIndex"
            ]
          },
          "metadata": {
            "tags": []
          },
          "execution_count": 664
        }
      ]
    },
    {
      "cell_type": "code",
      "metadata": {
        "id": "qV2IVhwfYwF4"
      },
      "source": [
        "df3 = df3.iloc[1:,1:]"
      ],
      "execution_count": null,
      "outputs": []
    },
    {
      "cell_type": "code",
      "metadata": {
        "colab": {
          "base_uri": "https://localhost:8080/"
        },
        "id": "PTJVBN8JVsGe",
        "outputId": "1a200a0f-e5ba-43e5-dcc8-cef94c94db67"
      },
      "source": [
        "df3.dtypes"
      ],
      "execution_count": null,
      "outputs": [
        {
          "output_type": "execute_result",
          "data": {
            "text/plain": [
              "Close    object\n",
              "Close    object\n",
              "Close    object\n",
              "Close    object\n",
              "dtype: object"
            ]
          },
          "metadata": {
            "tags": []
          },
          "execution_count": 666
        }
      ]
    },
    {
      "cell_type": "code",
      "metadata": {
        "colab": {
          "base_uri": "https://localhost:8080/"
        },
        "id": "jHsDdDtlVutS",
        "outputId": "bcd1fc12-2140-4f72-c03e-d4bacf37409b"
      },
      "source": [
        "df3 = df3.astype('float64')\n",
        "df3.dtypes"
      ],
      "execution_count": null,
      "outputs": [
        {
          "output_type": "execute_result",
          "data": {
            "text/plain": [
              "Close    float64\n",
              "Close    float64\n",
              "Close    float64\n",
              "Close    float64\n",
              "dtype: object"
            ]
          },
          "metadata": {
            "tags": []
          },
          "execution_count": 667
        }
      ]
    },
    {
      "cell_type": "code",
      "metadata": {
        "colab": {
          "base_uri": "https://localhost:8080/",
          "height": 449
        },
        "id": "VKibOL6PYVzq",
        "outputId": "944e3ae9-0f6f-41f7-a463-5cc470be579a"
      },
      "source": [
        "df3"
      ],
      "execution_count": null,
      "outputs": [
        {
          "output_type": "execute_result",
          "data": {
            "text/html": [
              "<div>\n",
              "<style scoped>\n",
              "    .dataframe tbody tr th:only-of-type {\n",
              "        vertical-align: middle;\n",
              "    }\n",
              "\n",
              "    .dataframe tbody tr th {\n",
              "        vertical-align: top;\n",
              "    }\n",
              "\n",
              "    .dataframe thead th {\n",
              "        text-align: right;\n",
              "    }\n",
              "</style>\n",
              "<table border=\"1\" class=\"dataframe\">\n",
              "  <thead>\n",
              "    <tr style=\"text-align: right;\">\n",
              "      <th></th>\n",
              "      <th>Close</th>\n",
              "      <th>Close</th>\n",
              "      <th>Close</th>\n",
              "      <th>Close</th>\n",
              "    </tr>\n",
              "    <tr>\n",
              "      <th>Date</th>\n",
              "      <th></th>\n",
              "      <th></th>\n",
              "      <th></th>\n",
              "      <th></th>\n",
              "    </tr>\n",
              "  </thead>\n",
              "  <tbody>\n",
              "    <tr>\n",
              "      <th>2021-05-10 16:00:00</th>\n",
              "      <td>305.97</td>\n",
              "      <td>629.04</td>\n",
              "      <td>2341.66</td>\n",
              "      <td>19.66</td>\n",
              "    </tr>\n",
              "    <tr>\n",
              "      <th>2021-05-11 16:00:00</th>\n",
              "      <td>306.53</td>\n",
              "      <td>617.20</td>\n",
              "      <td>2308.76</td>\n",
              "      <td>21.84</td>\n",
              "    </tr>\n",
              "    <tr>\n",
              "      <th>2021-05-12 16:00:00</th>\n",
              "      <td>302.55</td>\n",
              "      <td>589.89</td>\n",
              "      <td>2239.08</td>\n",
              "      <td>27.59</td>\n",
              "    </tr>\n",
              "    <tr>\n",
              "      <th>2021-05-13 16:00:00</th>\n",
              "      <td>305.26</td>\n",
              "      <td>571.69</td>\n",
              "      <td>2261.97</td>\n",
              "      <td>23.13</td>\n",
              "    </tr>\n",
              "    <tr>\n",
              "      <th>2021-05-14 16:00:00</th>\n",
              "      <td>315.94</td>\n",
              "      <td>589.74</td>\n",
              "      <td>2316.16</td>\n",
              "      <td>18.81</td>\n",
              "    </tr>\n",
              "    <tr>\n",
              "      <th>...</th>\n",
              "      <td>...</td>\n",
              "      <td>...</td>\n",
              "      <td>...</td>\n",
              "      <td>...</td>\n",
              "    </tr>\n",
              "    <tr>\n",
              "      <th>2021-08-02 16:00:00</th>\n",
              "      <td>351.95</td>\n",
              "      <td>709.67</td>\n",
              "      <td>2719.79</td>\n",
              "      <td>19.46</td>\n",
              "    </tr>\n",
              "    <tr>\n",
              "      <th>2021-08-03 16:00:00</th>\n",
              "      <td>351.24</td>\n",
              "      <td>709.74</td>\n",
              "      <td>2725.60</td>\n",
              "      <td>18.04</td>\n",
              "    </tr>\n",
              "    <tr>\n",
              "      <th>2021-08-04 16:00:00</th>\n",
              "      <td>358.92</td>\n",
              "      <td>710.92</td>\n",
              "      <td>2720.57</td>\n",
              "      <td>17.97</td>\n",
              "    </tr>\n",
              "    <tr>\n",
              "      <th>2021-08-05 16:00:00</th>\n",
              "      <td>362.97</td>\n",
              "      <td>714.63</td>\n",
              "      <td>2738.80</td>\n",
              "      <td>17.28</td>\n",
              "    </tr>\n",
              "    <tr>\n",
              "      <th>2021-08-06 16:00:00</th>\n",
              "      <td>363.51</td>\n",
              "      <td>699.10</td>\n",
              "      <td>2740.72</td>\n",
              "      <td>16.15</td>\n",
              "    </tr>\n",
              "  </tbody>\n",
              "</table>\n",
              "<p>63 rows × 4 columns</p>\n",
              "</div>"
            ],
            "text/plain": [
              "                      Close   Close    Close  Close\n",
              "Date                                               \n",
              "2021-05-10 16:00:00  305.97  629.04  2341.66  19.66\n",
              "2021-05-11 16:00:00  306.53  617.20  2308.76  21.84\n",
              "2021-05-12 16:00:00  302.55  589.89  2239.08  27.59\n",
              "2021-05-13 16:00:00  305.26  571.69  2261.97  23.13\n",
              "2021-05-14 16:00:00  315.94  589.74  2316.16  18.81\n",
              "...                     ...     ...      ...    ...\n",
              "2021-08-02 16:00:00  351.95  709.67  2719.79  19.46\n",
              "2021-08-03 16:00:00  351.24  709.74  2725.60  18.04\n",
              "2021-08-04 16:00:00  358.92  710.92  2720.57  17.97\n",
              "2021-08-05 16:00:00  362.97  714.63  2738.80  17.28\n",
              "2021-08-06 16:00:00  363.51  699.10  2740.72  16.15\n",
              "\n",
              "[63 rows x 4 columns]"
            ]
          },
          "metadata": {
            "tags": []
          },
          "execution_count": 668
        }
      ]
    },
    {
      "cell_type": "code",
      "metadata": {
        "colab": {
          "base_uri": "https://localhost:8080/"
        },
        "id": "yVhXLV_eDQ_C",
        "outputId": "40950a44-ae22-4403-8e19-86b2f3b0768a"
      },
      "source": [
        "colList = df3.columns.to_list()\n",
        "colList"
      ],
      "execution_count": null,
      "outputs": [
        {
          "output_type": "execute_result",
          "data": {
            "text/plain": [
              "['Close', 'Close', 'Close', 'Close']"
            ]
          },
          "metadata": {
            "tags": []
          },
          "execution_count": 669
        }
      ]
    },
    {
      "cell_type": "code",
      "metadata": {
        "colab": {
          "base_uri": "https://localhost:8080/"
        },
        "id": "QZEx4BOKDQ7-",
        "outputId": "57603911-c6b1-4872-8e32-b46028d0d355"
      },
      "source": [
        "stockList = ['FB', 'TSLA', 'GOOG', 'VIX']\n",
        "stockList"
      ],
      "execution_count": null,
      "outputs": [
        {
          "output_type": "execute_result",
          "data": {
            "text/plain": [
              "['FB', 'TSLA', 'GOOG', 'VIX']"
            ]
          },
          "metadata": {
            "tags": []
          },
          "execution_count": 670
        }
      ]
    },
    {
      "cell_type": "code",
      "metadata": {
        "colab": {
          "base_uri": "https://localhost:8080/"
        },
        "id": "-aBPymTADQ5J",
        "outputId": "a9006570-c336-495f-b18a-7a260a57a537"
      },
      "source": [
        "mstList = []\n",
        "mstList.append(stockList)\n",
        "mstList.append(colList)\n",
        "\n",
        "mstList"
      ],
      "execution_count": null,
      "outputs": [
        {
          "output_type": "execute_result",
          "data": {
            "text/plain": [
              "[['FB', 'TSLA', 'GOOG', 'VIX'], ['Close', 'Close', 'Close', 'Close']]"
            ]
          },
          "metadata": {
            "tags": []
          },
          "execution_count": 671
        }
      ]
    },
    {
      "cell_type": "code",
      "metadata": {
        "colab": {
          "base_uri": "https://localhost:8080/"
        },
        "id": "GOKnWmxVNUir",
        "outputId": "c99b527d-499c-4d27-da67-b42a6cdb59a3"
      },
      "source": [
        "pd.MultiIndex.from_arrays(mstList)"
      ],
      "execution_count": null,
      "outputs": [
        {
          "output_type": "execute_result",
          "data": {
            "text/plain": [
              "MultiIndex([(  'FB', 'Close'),\n",
              "            ('TSLA', 'Close'),\n",
              "            ('GOOG', 'Close'),\n",
              "            ( 'VIX', 'Close')],\n",
              "           )"
            ]
          },
          "metadata": {
            "tags": []
          },
          "execution_count": 672
        }
      ]
    },
    {
      "cell_type": "code",
      "metadata": {
        "id": "rATtAPycN6Sz"
      },
      "source": [
        "df3.columns = mstList"
      ],
      "execution_count": null,
      "outputs": []
    },
    {
      "cell_type": "code",
      "metadata": {
        "colab": {
          "base_uri": "https://localhost:8080/",
          "height": 480
        },
        "id": "HA5EbtysN6QP",
        "outputId": "ec480973-46b8-4d4d-d8aa-9c93693569ee"
      },
      "source": [
        "df3"
      ],
      "execution_count": null,
      "outputs": [
        {
          "output_type": "execute_result",
          "data": {
            "text/html": [
              "<div>\n",
              "<style scoped>\n",
              "    .dataframe tbody tr th:only-of-type {\n",
              "        vertical-align: middle;\n",
              "    }\n",
              "\n",
              "    .dataframe tbody tr th {\n",
              "        vertical-align: top;\n",
              "    }\n",
              "\n",
              "    .dataframe thead tr th {\n",
              "        text-align: left;\n",
              "    }\n",
              "\n",
              "    .dataframe thead tr:last-of-type th {\n",
              "        text-align: right;\n",
              "    }\n",
              "</style>\n",
              "<table border=\"1\" class=\"dataframe\">\n",
              "  <thead>\n",
              "    <tr>\n",
              "      <th></th>\n",
              "      <th>FB</th>\n",
              "      <th>TSLA</th>\n",
              "      <th>GOOG</th>\n",
              "      <th>VIX</th>\n",
              "    </tr>\n",
              "    <tr>\n",
              "      <th></th>\n",
              "      <th>Close</th>\n",
              "      <th>Close</th>\n",
              "      <th>Close</th>\n",
              "      <th>Close</th>\n",
              "    </tr>\n",
              "    <tr>\n",
              "      <th>Date</th>\n",
              "      <th></th>\n",
              "      <th></th>\n",
              "      <th></th>\n",
              "      <th></th>\n",
              "    </tr>\n",
              "  </thead>\n",
              "  <tbody>\n",
              "    <tr>\n",
              "      <th>2021-05-10 16:00:00</th>\n",
              "      <td>305.97</td>\n",
              "      <td>629.04</td>\n",
              "      <td>2341.66</td>\n",
              "      <td>19.66</td>\n",
              "    </tr>\n",
              "    <tr>\n",
              "      <th>2021-05-11 16:00:00</th>\n",
              "      <td>306.53</td>\n",
              "      <td>617.20</td>\n",
              "      <td>2308.76</td>\n",
              "      <td>21.84</td>\n",
              "    </tr>\n",
              "    <tr>\n",
              "      <th>2021-05-12 16:00:00</th>\n",
              "      <td>302.55</td>\n",
              "      <td>589.89</td>\n",
              "      <td>2239.08</td>\n",
              "      <td>27.59</td>\n",
              "    </tr>\n",
              "    <tr>\n",
              "      <th>2021-05-13 16:00:00</th>\n",
              "      <td>305.26</td>\n",
              "      <td>571.69</td>\n",
              "      <td>2261.97</td>\n",
              "      <td>23.13</td>\n",
              "    </tr>\n",
              "    <tr>\n",
              "      <th>2021-05-14 16:00:00</th>\n",
              "      <td>315.94</td>\n",
              "      <td>589.74</td>\n",
              "      <td>2316.16</td>\n",
              "      <td>18.81</td>\n",
              "    </tr>\n",
              "    <tr>\n",
              "      <th>...</th>\n",
              "      <td>...</td>\n",
              "      <td>...</td>\n",
              "      <td>...</td>\n",
              "      <td>...</td>\n",
              "    </tr>\n",
              "    <tr>\n",
              "      <th>2021-08-02 16:00:00</th>\n",
              "      <td>351.95</td>\n",
              "      <td>709.67</td>\n",
              "      <td>2719.79</td>\n",
              "      <td>19.46</td>\n",
              "    </tr>\n",
              "    <tr>\n",
              "      <th>2021-08-03 16:00:00</th>\n",
              "      <td>351.24</td>\n",
              "      <td>709.74</td>\n",
              "      <td>2725.60</td>\n",
              "      <td>18.04</td>\n",
              "    </tr>\n",
              "    <tr>\n",
              "      <th>2021-08-04 16:00:00</th>\n",
              "      <td>358.92</td>\n",
              "      <td>710.92</td>\n",
              "      <td>2720.57</td>\n",
              "      <td>17.97</td>\n",
              "    </tr>\n",
              "    <tr>\n",
              "      <th>2021-08-05 16:00:00</th>\n",
              "      <td>362.97</td>\n",
              "      <td>714.63</td>\n",
              "      <td>2738.80</td>\n",
              "      <td>17.28</td>\n",
              "    </tr>\n",
              "    <tr>\n",
              "      <th>2021-08-06 16:00:00</th>\n",
              "      <td>363.51</td>\n",
              "      <td>699.10</td>\n",
              "      <td>2740.72</td>\n",
              "      <td>16.15</td>\n",
              "    </tr>\n",
              "  </tbody>\n",
              "</table>\n",
              "<p>63 rows × 4 columns</p>\n",
              "</div>"
            ],
            "text/plain": [
              "                         FB    TSLA     GOOG    VIX\n",
              "                      Close   Close    Close  Close\n",
              "Date                                               \n",
              "2021-05-10 16:00:00  305.97  629.04  2341.66  19.66\n",
              "2021-05-11 16:00:00  306.53  617.20  2308.76  21.84\n",
              "2021-05-12 16:00:00  302.55  589.89  2239.08  27.59\n",
              "2021-05-13 16:00:00  305.26  571.69  2261.97  23.13\n",
              "2021-05-14 16:00:00  315.94  589.74  2316.16  18.81\n",
              "...                     ...     ...      ...    ...\n",
              "2021-08-02 16:00:00  351.95  709.67  2719.79  19.46\n",
              "2021-08-03 16:00:00  351.24  709.74  2725.60  18.04\n",
              "2021-08-04 16:00:00  358.92  710.92  2720.57  17.97\n",
              "2021-08-05 16:00:00  362.97  714.63  2738.80  17.28\n",
              "2021-08-06 16:00:00  363.51  699.10  2740.72  16.15\n",
              "\n",
              "[63 rows x 4 columns]"
            ]
          },
          "metadata": {
            "tags": []
          },
          "execution_count": 675
        }
      ]
    },
    {
      "cell_type": "code",
      "metadata": {
        "colab": {
          "base_uri": "https://localhost:8080/",
          "height": 327
        },
        "id": "6W46Bc3xN6Gp",
        "outputId": "9363f7ee-4e38-4f70-f6b3-80bc80069684"
      },
      "source": [
        "df3.describe()"
      ],
      "execution_count": null,
      "outputs": [
        {
          "output_type": "execute_result",
          "data": {
            "text/html": [
              "<div>\n",
              "<style scoped>\n",
              "    .dataframe tbody tr th:only-of-type {\n",
              "        vertical-align: middle;\n",
              "    }\n",
              "\n",
              "    .dataframe tbody tr th {\n",
              "        vertical-align: top;\n",
              "    }\n",
              "\n",
              "    .dataframe thead tr th {\n",
              "        text-align: left;\n",
              "    }\n",
              "</style>\n",
              "<table border=\"1\" class=\"dataframe\">\n",
              "  <thead>\n",
              "    <tr>\n",
              "      <th></th>\n",
              "      <th>FB</th>\n",
              "      <th>TSLA</th>\n",
              "      <th>GOOG</th>\n",
              "      <th>VIX</th>\n",
              "    </tr>\n",
              "    <tr>\n",
              "      <th></th>\n",
              "      <th>Close</th>\n",
              "      <th>Close</th>\n",
              "      <th>Close</th>\n",
              "      <th>Close</th>\n",
              "    </tr>\n",
              "  </thead>\n",
              "  <tbody>\n",
              "    <tr>\n",
              "      <th>count</th>\n",
              "      <td>63.000000</td>\n",
              "      <td>63.000000</td>\n",
              "      <td>63.000000</td>\n",
              "      <td>63.000000</td>\n",
              "    </tr>\n",
              "    <tr>\n",
              "      <th>mean</th>\n",
              "      <td>339.087937</td>\n",
              "      <td>637.267143</td>\n",
              "      <td>2530.545397</td>\n",
              "      <td>18.012857</td>\n",
              "    </tr>\n",
              "    <tr>\n",
              "      <th>std</th>\n",
              "      <td>17.245996</td>\n",
              "      <td>39.283303</td>\n",
              "      <td>139.111292</td>\n",
              "      <td>2.213566</td>\n",
              "    </tr>\n",
              "    <tr>\n",
              "      <th>min</th>\n",
              "      <td>302.550000</td>\n",
              "      <td>563.460000</td>\n",
              "      <td>2239.080000</td>\n",
              "      <td>15.070000</td>\n",
              "    </tr>\n",
              "    <tr>\n",
              "      <th>25%</th>\n",
              "      <td>329.140000</td>\n",
              "      <td>605.125000</td>\n",
              "      <td>2425.545000</td>\n",
              "      <td>16.405000</td>\n",
              "    </tr>\n",
              "    <tr>\n",
              "      <th>50%</th>\n",
              "      <td>339.030000</td>\n",
              "      <td>643.380000</td>\n",
              "      <td>2527.420000</td>\n",
              "      <td>17.690000</td>\n",
              "    </tr>\n",
              "    <tr>\n",
              "      <th>75%</th>\n",
              "      <td>351.920000</td>\n",
              "      <td>664.520000</td>\n",
              "      <td>2623.680000</td>\n",
              "      <td>18.825000</td>\n",
              "    </tr>\n",
              "    <tr>\n",
              "      <th>max</th>\n",
              "      <td>373.280000</td>\n",
              "      <td>714.630000</td>\n",
              "      <td>2792.890000</td>\n",
              "      <td>27.590000</td>\n",
              "    </tr>\n",
              "  </tbody>\n",
              "</table>\n",
              "</div>"
            ],
            "text/plain": [
              "               FB        TSLA         GOOG        VIX\n",
              "            Close       Close        Close      Close\n",
              "count   63.000000   63.000000    63.000000  63.000000\n",
              "mean   339.087937  637.267143  2530.545397  18.012857\n",
              "std     17.245996   39.283303   139.111292   2.213566\n",
              "min    302.550000  563.460000  2239.080000  15.070000\n",
              "25%    329.140000  605.125000  2425.545000  16.405000\n",
              "50%    339.030000  643.380000  2527.420000  17.690000\n",
              "75%    351.920000  664.520000  2623.680000  18.825000\n",
              "max    373.280000  714.630000  2792.890000  27.590000"
            ]
          },
          "metadata": {
            "tags": []
          },
          "execution_count": 676
        }
      ]
    },
    {
      "cell_type": "code",
      "metadata": {
        "colab": {
          "base_uri": "https://localhost:8080/"
        },
        "id": "Z-CCpGiDQkCS",
        "outputId": "9535cc30-e1c3-423b-f3c5-33b16e40cda0"
      },
      "source": [
        "for x in df3:\n",
        "  print(\"{}\\n\".format(x[0]) + str(df3[x[0]].describe()) + '\\n')"
      ],
      "execution_count": null,
      "outputs": [
        {
          "output_type": "stream",
          "text": [
            "FB\n",
            "            Close\n",
            "count   63.000000\n",
            "mean   339.087937\n",
            "std     17.245996\n",
            "min    302.550000\n",
            "25%    329.140000\n",
            "50%    339.030000\n",
            "75%    351.920000\n",
            "max    373.280000\n",
            "\n",
            "TSLA\n",
            "            Close\n",
            "count   63.000000\n",
            "mean   637.267143\n",
            "std     39.283303\n",
            "min    563.460000\n",
            "25%    605.125000\n",
            "50%    643.380000\n",
            "75%    664.520000\n",
            "max    714.630000\n",
            "\n",
            "GOOG\n",
            "             Close\n",
            "count    63.000000\n",
            "mean   2530.545397\n",
            "std     139.111292\n",
            "min    2239.080000\n",
            "25%    2425.545000\n",
            "50%    2527.420000\n",
            "75%    2623.680000\n",
            "max    2792.890000\n",
            "\n",
            "VIX\n",
            "           Close\n",
            "count  63.000000\n",
            "mean   18.012857\n",
            "std     2.213566\n",
            "min    15.070000\n",
            "25%    16.405000\n",
            "50%    17.690000\n",
            "75%    18.825000\n",
            "max    27.590000\n",
            "\n"
          ],
          "name": "stdout"
        }
      ]
    },
    {
      "cell_type": "code",
      "metadata": {
        "colab": {
          "base_uri": "https://localhost:8080/"
        },
        "id": "7stQSe6SQj6M",
        "outputId": "ffd87cd1-926d-4505-ee45-773a291198e8"
      },
      "source": [
        "for x in df3:\n",
        "  print(\"{}\\n\".format(x[0]) + 'Sum: ' + str(df3[x[0]].sum()) + '\\n' +\n",
        "        'Var: ' + str(df3[x[0]].var()) +  '\\nMedian: ' + str(df3[x[0]].median()) + '\\n')"
      ],
      "execution_count": null,
      "outputs": [
        {
          "output_type": "stream",
          "text": [
            "FB\n",
            "Sum: Close    21362.54\n",
            "dtype: float64\n",
            "Var: Close    297.424368\n",
            "dtype: float64\n",
            "Median: Close    339.03\n",
            "dtype: float64\n",
            "\n",
            "TSLA\n",
            "Sum: Close    40147.83\n",
            "dtype: float64\n",
            "Var: Close    1543.17793\n",
            "dtype: float64\n",
            "Median: Close    643.38\n",
            "dtype: float64\n",
            "\n",
            "GOOG\n",
            "Sum: Close    159424.36\n",
            "dtype: float64\n",
            "Var: Close    19351.951532\n",
            "dtype: float64\n",
            "Median: Close    2527.42\n",
            "dtype: float64\n",
            "\n",
            "VIX\n",
            "Sum: Close    1134.81\n",
            "dtype: float64\n",
            "Var: Close    4.899872\n",
            "dtype: float64\n",
            "Median: Close    17.69\n",
            "dtype: float64\n",
            "\n"
          ],
          "name": "stdout"
        }
      ]
    },
    {
      "cell_type": "code",
      "metadata": {
        "colab": {
          "base_uri": "https://localhost:8080/"
        },
        "id": "p2idfjxSQjuU",
        "outputId": "c925ca69-cc05-48a7-df51-d81cb25f296d"
      },
      "source": [
        "for x in df3:\n",
        "  print(\"{}: \".format(x[0]) + str(df3[(x)].sum()))"
      ],
      "execution_count": null,
      "outputs": [
        {
          "output_type": "stream",
          "text": [
            "FB: 21362.54\n",
            "TSLA: 40147.82999999999\n",
            "GOOG: 159424.36000000004\n",
            "VIX: 1134.8100000000002\n"
          ],
          "name": "stdout"
        }
      ]
    },
    {
      "cell_type": "code",
      "metadata": {
        "colab": {
          "base_uri": "https://localhost:8080/",
          "height": 301
        },
        "id": "RCMkN41kdYjt",
        "outputId": "f6518ac1-6c3c-4e07-a13e-a5d9b13f9409"
      },
      "source": [
        "df3.plot()"
      ],
      "execution_count": null,
      "outputs": [
        {
          "output_type": "execute_result",
          "data": {
            "text/plain": [
              "<matplotlib.axes._subplots.AxesSubplot at 0x7fa0798ddb50>"
            ]
          },
          "metadata": {
            "tags": []
          },
          "execution_count": 680
        },
        {
          "output_type": "display_data",
          "data": {
            "image/png": "[encoded data removed]",
            "text/plain": [
              "<Figure size 432x288 with 1 Axes>"
            ]
          },
          "metadata": {
            "tags": [],
            "needs_background": "light"
          }
        }
      ]
    },
    {
      "cell_type": "code",
      "metadata": {
        "colab": {
          "base_uri": "https://localhost:8080/",
          "height": 423
        },
        "id": "eop1nInPQjdJ",
        "outputId": "643604ae-497e-4d14-dccb-273b892bb061"
      },
      "source": [
        "import matplotlib.pyplot as plt\n",
        "\n",
        "i = 0\n",
        "f = plt.figure(figsize=(40,10))\n",
        "\n",
        "\n",
        "for x in df3:\n",
        "  i += 1\n",
        "  f.add_subplot(1,len(df3.columns),i)\n",
        "  plt.plot(df3[x], label=x[0])\n",
        "  plt.legend(loc='upper left')\n",
        "\n",
        "\n",
        "plt.show()"
      ],
      "execution_count": null,
      "outputs": [
        {
          "output_type": "display_data",
          "data": {
            "image/png": "[encoded data removed]",
            "text/plain": [
              "<Figure size 2880x720 with 4 Axes>"
            ]
          },
          "metadata": {
            "tags": [],
            "needs_background": "light"
          }
        }
      ]
    },
    {
      "cell_type": "code",
      "metadata": {
        "colab": {
          "base_uri": "https://localhost:8080/",
          "height": 282
        },
        "id": "4ySsc3L6C_FY",
        "outputId": "6b7be98c-8139-42df-f45e-3b8361118e9e"
      },
      "source": [
        "df3.plot.box()"
      ],
      "execution_count": null,
      "outputs": [
        {
          "output_type": "execute_result",
          "data": {
            "text/plain": [
              "<matplotlib.axes._subplots.AxesSubplot at 0x7fa0797b3d90>"
            ]
          },
          "metadata": {
            "tags": []
          },
          "execution_count": 682
        },
        {
          "output_type": "display_data",
          "data": {
            "image/png": "[encoded data removed]",
            "text/plain": [
              "<Figure size 432x288 with 1 Axes>"
            ]
          },
          "metadata": {
            "tags": [],
            "needs_background": "light"
          }
        }
      ]
    },
    {
      "cell_type": "code",
      "metadata": {
        "colab": {
          "base_uri": "https://localhost:8080/",
          "height": 555
        },
        "id": "LRNXrng9C_CA",
        "outputId": "fa027604-d6c1-4fc5-c88f-25530b2e1673"
      },
      "source": [
        "import matplotlib.pyplot as plt\n",
        "\n",
        "i = 0\n",
        "f = plt.figure(figsize=(30,10))\n",
        "\n",
        "for x in df3:\n",
        "  i += 1\n",
        "  f.add_subplot(1,len(df3.columns),i)\n",
        "  plt.boxplot(df3[x])\n",
        "\n",
        "\n",
        "plt.show()"
      ],
      "execution_count": null,
      "outputs": [
        {
          "output_type": "display_data",
          "data": {
            "image/png": "[encoded data removed]",
            "text/plain": [
              "<Figure size 2160x720 with 4 Axes>"
            ]
          },
          "metadata": {
            "tags": [],
            "needs_background": "light"
          }
        }
      ]
    },
    {
      "cell_type": "code",
      "metadata": {
        "id": "rPOekzjqC-_n"
      },
      "source": [
        "import numpy as np\n",
        "\n",
        "def sharpe_ratio(cols):\n",
        "  return ((cols.mean() * 252) / (cols.std() * np.sqrt(252)))"
      ],
      "execution_count": null,
      "outputs": []
    },
    {
      "cell_type": "code",
      "metadata": {
        "colab": {
          "base_uri": "https://localhost:8080/"
        },
        "id": "gnWrkdZcC-89",
        "outputId": "1dab9ab6-1fd4-4064-b271-89ee278bb75b"
      },
      "source": [
        "print('Sharpe\\'s Ratio:')\n",
        "\n",
        "for x in df3:\n",
        "  print(str(x[0]) + ':' + '\\t' + str(sharpe_ratio(df3[(x)])))"
      ],
      "execution_count": null,
      "outputs": [
        {
          "output_type": "stream",
          "text": [
            "Sharpe's Ratio:\n",
            "FB:\t312.1219675555432\n",
            "TSLA:\t257.5216792450178\n",
            "GOOG:\t288.7699644074574\n",
            "VIX:\t129.1785757827559\n"
          ],
          "name": "stdout"
        }
      ]
    },
    {
      "cell_type": "code",
      "metadata": {
        "id": "zBS8p1WdnSu_"
      },
      "source": [
        ""
      ],
      "execution_count": null,
      "outputs": []
    },
    {
      "cell_type": "code",
      "metadata": {
        "colab": {
          "base_uri": "https://localhost:8080/"
        },
        "id": "K1Jk9_bMm5eg",
        "outputId": "565cf0b4-972f-45c9-d46b-847e99e2df7d"
      },
      "source": [
        "df4 = df3.index\n",
        "timeVal = []\n",
        "for x in df4:\n",
        "  timeVal.append(str(x))\n",
        "\n",
        "type(timeVal[0])"
      ],
      "execution_count": null,
      "outputs": [
        {
          "output_type": "execute_result",
          "data": {
            "text/plain": [
              "str"
            ]
          },
          "metadata": {
            "tags": []
          },
          "execution_count": 719
        }
      ]
    },
    {
      "cell_type": "code",
      "metadata": {
        "id": "AqepEY_Jmbtc"
      },
      "source": [
        "ultList = []\n",
        "stockDate = timeVal\n",
        "stockVals = df3.to_numpy().tolist()\n",
        "z = 0\n",
        "\n",
        "while z != len(stockDate):\n",
        "  mstrStock = []\n",
        "  mstrStock.append(stockDate[z])\n",
        "  for y in stockVals[z]:\n",
        "    mstrStock.append(y)\n",
        "  ultList.append(mstrStock)\n",
        "  z += 1"
      ],
      "execution_count": null,
      "outputs": []
    },
    {
      "cell_type": "code",
      "metadata": {
        "colab": {
          "base_uri": "https://localhost:8080/"
        },
        "id": "nzk3WI0kp8gn",
        "outputId": "dcf61606-685d-4871-8128-d6af9be8dc2a"
      },
      "source": [
        "type(stockDate[0])"
      ],
      "execution_count": null,
      "outputs": [
        {
          "output_type": "execute_result",
          "data": {
            "text/plain": [
              "str"
            ]
          },
          "metadata": {
            "tags": []
          },
          "execution_count": 721
        }
      ]
    },
    {
      "cell_type": "code",
      "metadata": {
        "id": "d7sKV2Knp8bv"
      },
      "source": [
        ""
      ],
      "execution_count": null,
      "outputs": []
    },
    {
      "cell_type": "code",
      "metadata": {
        "id": "MTFrPf1n47ly"
      },
      "source": [
        "q = 0\n",
        "while q != len(ultList):\n",
        "  worksheet.insert_row(ultList[q], index=q+1)\n",
        "  q += 1"
      ],
      "execution_count": null,
      "outputs": []
    },
    {
      "cell_type": "markdown",
      "metadata": {
        "id": "RCCv_3srxI1W"
      },
      "source": [
        "## See What the File Looks Like in Google Sheets Now\n",
        "\n",
        "What happended to the data we loaded originaly into the DF?"
      ]
    },
    {
      "cell_type": "code",
      "metadata": {
        "id": "Asic4Pe75pZd"
      },
      "source": [
        "# Save to a csv in my Gdrive\n",
        "# df3.to_csv('/content/gdrive/My Drive/Some_Name_Here.csv')"
      ],
      "execution_count": null,
      "outputs": []
    }
  ]
}